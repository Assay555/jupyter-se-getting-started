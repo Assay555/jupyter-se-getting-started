{
 "cells": [
  {
   "cell_type": "markdown",
   "metadata": {
    "slideshow": {
     "slide_type": "slide"
    }
   },
   "source": [
    "# Intro\n",
    "Detta är en Jupyter Notebook! Det är en fil som kan visas via en webbläsare, men styra en dator bakom kulissen att köra kod. Datorn bakom kulissen kan vara din egen dator, men just nu har du fått en egen server i molnet att köra kod för dig. Testa detta enkelt själv genom att klicka på *kodcellen* nedan och tryck `Shift-Enter` eller tryck på <button class='btn btn-default btn-xs'><i class=\"icon-step-forward fa fa-step-forward\"></i></button> knappen i verktygsraden ovan för att köra koden."
   ]
  },
  {
   "cell_type": "code",
   "execution_count": null,
   "metadata": {
    "slideshow": {
     "slide_type": "subslide"
    }
   },
   "outputs": [],
   "source": [
    "# TODO: Correct this faulty code...\n",
    "ageInSeconds = 30*365\n",
    "print(\"IT-gymnasiet är ungefär {} sekunder gammalt nu!\".format(ageInSeconds))"
   ]
  },
  {
   "cell_type": "markdown",
   "metadata": {
    "slideshow": {
     "slide_type": "slide"
    }
   },
   "source": [
    "# Användningsområden"
   ]
  },
  {
   "cell_type": "markdown",
   "metadata": {
    "slideshow": {
     "slide_type": "subslide"
    }
   },
   "source": [
    "### Presentationer\n",
    "Du kan göra/använda presentationer av Jupyter anteckningsböcker, precis som powerpoints. Testa exempelvis att klicka på <button class='btn btn-default btn-xs'><i class=\"fa-bar-chart-o fa\"></i>Enter/Exit RISE Slideshow</button> knappen i menyraden ovan."
   ]
  },
  {
   "cell_type": "markdown",
   "metadata": {
    "slideshow": {
     "slide_type": "subslide"
    }
   },
   "source": [
    "### Labbrapporter / Inlämningsuppgifter\n",
    "Elever kan skriva labbrapporter i Jupyter anteckningsböcker. Då kan de göra beräkningar, visualisera dem, och skriva teori med snygga matematiska uttryck: $\\sqrt{3x-1}+(1+x)^2$.\n",
    "\n",
    "När de är klara, kan du exempelvis be dem klicka _File > Download as > HTML (.html)_ och skicka in. Automatisk rättning och ännu smidigare inlämningssystem är dessutom på gång ([nbgrader)](https://github.com/jupyter/nbgrader)."
   ]
  },
  {
   "cell_type": "markdown",
   "metadata": {
    "slideshow": {
     "slide_type": "subslide"
    }
   },
   "source": [
    "### Fri arbetsyta för eleverna\n",
    "Elever skulle kunna inspireras till egna projekt eller helt enkelt föra lektionsanteckningar eller liknande."
   ]
  },
  {
   "cell_type": "markdown",
   "metadata": {
    "slideshow": {
     "slide_type": "slide"
    }
   },
   "source": [
    "# Lär dig\n",
    "\n",
    "### Jupyters grunder"
   ]
  },
  {
   "cell_type": "markdown",
   "metadata": {
    "hideCode": false,
    "hidePrompt": false,
    "slideshow": {
     "slide_type": "fragment"
    }
   },
   "source": [
    "|Jupyter Notebook Tutorial: Introduction, Setup, and Walkthrough|\n",
    "|:-|\n",
    "|[![](https://img.youtube.com/vi/HW29067qVWk/0.jpg)](https://www.youtube.com/watch?v=HW29067qVWk)|\n",
    "|*YouTube: Lär dig grunderna om Jupyter.*|"
   ]
  },
  {
   "cell_type": "markdown",
   "metadata": {
    "slideshow": {
     "slide_type": "subslide"
    }
   },
   "source": [
    "### Pythons grunder\n",
    "[Importera en grundkurs i Python till Jupyter.se](https://jupyter.se/hub/user-redirect/git-pull?repo=https://gitlab.erc.monash.edu.au/andrease/Python4Maths&subPath=Intro-to-Python/00.ipynb)\n",
    "\n",
    "> OBS: Elever kan smidigt förses med material genom en länk, precis som ovan. De kan även klicka på <button class='btn btn-default btn-xs'>Upload</button> knappen på huvudsidan ifall de har en fil på sin dator."
   ]
  },
  {
   "cell_type": "markdown",
   "metadata": {
    "slideshow": {
     "slide_type": "subslide"
    }
   },
   "source": [
    "### Matematik\n",
    "[Importera en kurs om numerisk beräkning till Jupyter.se](https://jupyter.se/hub/user-redirect/git-pull?repo=https://github.com/mikkokotila/jupyter4kids&subPath=notebooks/numerical-computing-is-fun-1.ipynb)"
   ]
  },
  {
   "cell_type": "markdown",
   "metadata": {
    "slideshow": {
     "slide_type": "slide"
    }
   },
   "source": [
    "# Demonstrativt\n",
    "\n",
    "#### Maskinlärning / artificiell intelligens\n",
    "[Importera en övning lämplig för de som lärt sig om derivata relaterad till maskininlärning](https://jupyter.se/hub/user-redirect/git-pull?repo=https://github.com/consideratio/jupyter-math&subPath=source/gradient-descent/gradient-descent.ipynb)"
   ]
  },
  {
   "cell_type": "markdown",
   "metadata": {
    "slideshow": {
     "slide_type": "subslide"
    }
   },
   "source": [
    "#### Kemi\n",
    "[Importera en kurs om ett bibliotek som bland annat hjälper dig visualisera molekyler](https://jupyter.se/hub/user-redirect/git-pull?repo=https://github.com/rdkit/rdkit-tutorials&subPath=notebooks/001_ReadingMolecules1.ipynb)"
   ]
  },
  {
   "cell_type": "markdown",
   "metadata": {
    "slideshow": {
     "slide_type": "fragment"
    }
   },
   "source": [
    "> OBS: Du behöver installera python biblioteket `rdkit` genom att köra koden nedan"
   ]
  },
  {
   "cell_type": "code",
   "execution_count": null,
   "metadata": {
    "slideshow": {
     "slide_type": "-"
    }
   },
   "outputs": [],
   "source": [
    "# NOTE: '!' means that you will run a terminal command on the server.\n",
    "!conda install -y -c rdkit rdkit"
   ]
  },
  {
   "cell_type": "markdown",
   "metadata": {
    "slideshow": {
     "slide_type": "slide"
    }
   },
   "source": [
    "# Om jupyter.se\n",
    "Jag (Erik Sundell, ITG-Uppsala), har skapat den på fritiden och den bygger huvudsakligen på öppen källkod. Den är tänkt att fungera som ett \"proof of concept\", men den behöver serverfinansiering, utveckling och underhåll för att den ska fungera på stor skala inom hela ITG eller hela Academedia."
   ]
  }
 ],
 "metadata": {
  "celltoolbar": "Slideshow",
  "kernelspec": {
   "display_name": "Python 3",
   "language": "python",
   "name": "python3"
  },
  "language_info": {
   "codemirror_mode": {
    "name": "ipython",
    "version": 3
   },
   "file_extension": ".py",
   "mimetype": "text/x-python",
   "name": "python",
   "nbconvert_exporter": "python",
   "pygments_lexer": "ipython3",
   "version": "3.6.2"
  }
 },
 "nbformat": 4,
 "nbformat_minor": 2
}
